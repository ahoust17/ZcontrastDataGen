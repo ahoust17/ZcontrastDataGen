{
 "cells": [
  {
   "cell_type": "code",
   "execution_count": null,
   "metadata": {},
   "outputs": [],
   "source": [
    "# taken from atomai examples on github\n",
    "# by Maxim Ziatdinov\n",
    "# https://github.com/pycroscopy/atomai"
   ]
  },
  {
   "cell_type": "code",
   "execution_count": null,
   "metadata": {},
   "outputs": [],
   "source": [
    "import matplotlib.pyplot as plt\n",
    "import numpy as np\n",
    "import cv2\n",
    "import atomai as aoi"
   ]
  },
  {
   "cell_type": "code",
   "execution_count": null,
   "metadata": {},
   "outputs": [],
   "source": [
    "STEM_real = np.load('3DStack13-1-exp.npy')\n",
    "decoded_imgs = np.load('3DStack13-1-dec.npy')\n",
    "lattice_coord = np.load('3DStack13-1-coord.npy', allow_pickle=True)[()]"
   ]
  },
  {
   "cell_type": "code",
   "execution_count": null,
   "metadata": {},
   "outputs": [],
   "source": [
    "i = 10 # Choose movie frame\n",
    "\n",
    "# Squeeze the channels in the predicted image (this is optional)\n",
    "d_img = np.uint8(decoded_imgs[i]*255)\n",
    "d_img = cv2.cvtColor(d_img, cv2.COLOR_BGR2GRAY)\n",
    "# Get coordinates for C and Si atoms\n",
    "lattice_coord_ = lattice_coord[i]\n",
    "coord_Si = lattice_coord[i][np.where(lattice_coord[i][:,2]==1)][:,0:2]\n",
    "coord_C = lattice_coord[i][np.where(lattice_coord[i][:,2]==0)][:,0:2]\n",
    "# Plotting\n",
    "fig = plt.figure(figsize = (15, 10), dpi = 100)\n",
    "ax1 = fig.add_subplot(131)\n",
    "ax1.imshow(STEM_real[i,:,:,0], vmin=0, vmax=0.3, cmap='gray')\n",
    "ax1.axis('off')\n",
    "ax1.set_title('Experimental', fontsize=14)\n",
    "ax2 = fig.add_subplot(132)\n",
    "ax2.imshow(d_img, cmap='jet', Interpolation='Gaussian')\n",
    "ax2.axis('off')\n",
    "ax2.set_title('DCNN output', fontsize = 14)\n",
    "ax3 = fig.add_subplot(133)\n",
    "ax3.scatter(coord_Si[:,1], coord_Si[:,0], c='red', s=1)\n",
    "ax3.scatter(coord_C[:,1], coord_C[:,0], c='blue', s=1)\n",
    "ax3.imshow(STEM_real[i,:,:,0], cmap = 'gray')\n",
    "ax3.axis('off')\n",
    "ax3.set_title('Atomic coordinates', fontsize = 14)"
   ]
  },
  {
   "cell_type": "code",
   "execution_count": null,
   "metadata": {},
   "outputs": [],
   "source": [
    "window_size = 24\n",
    "s = aoi.stat.imlocal(\n",
    "    np.sum(decoded_imgs[..., :-1], -1)[..., None], # convert to a single channel (no background)\n",
    "    lattice_coord, window_size, 0)"
   ]
  },
  {
   "cell_type": "code",
   "execution_count": null,
   "metadata": {},
   "outputs": [],
   "source": [
    "s.gmm(n_components=16, plot_results=True, random_state=42);"
   ]
  },
  {
   "cell_type": "code",
   "execution_count": null,
   "metadata": {},
   "outputs": [],
   "source": [
    "imstack = s.imgstack[..., 0] # will be used as training/test data\n",
    "frames_all = s.imgstack_frames # will need for plotting VAE results\n",
    "com_all = s.imgstack_com # will need for plotting VAE results\n",
    "\n",
    "from sklearn.model_selection import train_test_split\n",
    "imstack_train, imstack_test = train_test_split(\n",
    "    imstack, test_size=0.15, shuffle=True, random_state=0)\n",
    "print(imstack_train.shape, imstack_test.shape)"
   ]
  },
  {
   "cell_type": "code",
   "execution_count": null,
   "metadata": {},
   "outputs": [],
   "source": [
    "# Ititialize model\n",
    "in_dim = (window_size, window_size)\n",
    "vae = aoi.models.VAE(in_dim)\n",
    "# Train\n",
    "vae.fit(X_train=imstack_train, X_test=imstack_test, training_cycles=200, batch_size=200)"
   ]
  },
  {
   "cell_type": "code",
   "execution_count": null,
   "metadata": {},
   "outputs": [],
   "source": [
    "vae.manifold2d(cmap=\"jet\");"
   ]
  },
  {
   "cell_type": "code",
   "execution_count": null,
   "metadata": {},
   "outputs": [],
   "source": [
    "# Ititialize model\n",
    "in_dim = (window_size, window_size)\n",
    "rvae = aoi.models.rVAE(in_dim)\n",
    "# Train\n",
    "rvae.fit(X_train=imstack_train, X_test=imstack_test, training_cycles=200, batch_size=200)"
   ]
  },
  {
   "cell_type": "code",
   "execution_count": null,
   "metadata": {},
   "outputs": [],
   "source": [
    "rvae.manifold2d(cmap=\"jet\");"
   ]
  },
  {
   "cell_type": "code",
   "execution_count": null,
   "metadata": {},
   "outputs": [],
   "source": [
    "z_mean, z_sd = rvae.encode(imstack)\n",
    "z1, z2, z3 = z_mean[:,0], z_mean[:, 1:3], z_mean[:, 3:]"
   ]
  },
  {
   "cell_type": "code",
   "execution_count": null,
   "metadata": {},
   "outputs": [],
   "source": [
    "fig, ax = plt.subplots(1, 3, figsize=(25, 5))\n",
    "ax[0].hist(z1, bins=60, color='gray')\n",
    "ax[1].hist(z2[:, 0], bins=60, color='gray')\n",
    "ax[2].hist(z2[:, 1], bins=60, color='gray')\n",
    "ax[0].set_xlabel(\"Encoded angle\", fontsize=18)\n",
    "ax[1].set_xlabel(\"Encoded offset\", fontsize=18)\n",
    "ax[2].set_xlabel(\"Encoded offset\", fontsize=18)\n",
    "for _ax in fig.axes:\n",
    "    _ax.set_ylabel(\"Count\", fontsize=18)\n",
    "    _ax.tick_params(labelsize=15)\n",
    "plt.subplots_adjust(wspace=0.3)"
   ]
  },
  {
   "cell_type": "code",
   "execution_count": null,
   "metadata": {},
   "outputs": [],
   "source": [
    "frame = 49 # select frame\n",
    "\n",
    "com_i = com_all[frames_all == frame] # get coordinates for this frame\n",
    "com_i_Si = lattice_coord[frame] # get Si coordinates for plotting\n",
    "com_i_Si = com_i_Si[com_i_Si[:,-1]==1.]\n",
    "z1_i = z1[frames_all == frame] # get latent variables (image) for this frame\n",
    "z3_i = z3[frames_all == frame] # get latent variables (image) for this frame\n",
    "\n",
    "col_min0 = z1.min()\n",
    "col_max0 = z1.max()\n",
    "col_min1 = z3[:, 0].min()\n",
    "col_max1 = z3[:, 0].max()\n",
    "col_min2 = z3[:, 1].min()\n",
    "col_max2 = z3[:, 1].max()\n",
    "\n",
    "fig, ax = plt.subplots(1, 3, figsize=(30, 10))\n",
    "ax[0].imshow(STEM_real[frame,...,0], cmap=\"gray\")\n",
    "ax[0].scatter(com_i[:, 1], com_i[:, 0], c=z1_i, s=15,\n",
    "            cmap=\"jet\", vmin=col_min0, vmax=col_max0)\n",
    "ax[0].set_title(\"Encoded angle\", fontsize=18)\n",
    "ax[1].imshow(STEM_real[frame,...,0], cmap=\"gray\")\n",
    "ax[1].scatter(com_i[:, 1], com_i[:, 0], c=z3_i[:, 0], s=15,\n",
    "            cmap=\"jet\", vmin=col_min1, vmax=col_max1)\n",
    "ax[1].set_title(\"Latent variable 1\", fontsize=18)\n",
    "ax[2].imshow(STEM_real[frame,...,0], cmap=\"gray\")\n",
    "ax[2].scatter(com_i[:, 1], com_i[:, 0], c=z3_i[:, 1], s=15,\n",
    "              cmap=\"jet\", vmin=col_min2, vmax=col_max2)\n",
    "ax[2].set_title(\"Latent variable 2\", fontsize=18)\n",
    "for _ax in fig.axes:\n",
    "    _ax.scatter(com_i_Si[:, 1], com_i_Si[:, 0], s=35, c='Red')\n",
    "    _ax.axis(False)\n",
    "plt.show()"
   ]
  },
  {
   "cell_type": "code",
   "execution_count": null,
   "metadata": {},
   "outputs": [],
   "source": []
  }
 ],
 "metadata": {
  "language_info": {
   "name": "python"
  },
  "orig_nbformat": 4
 },
 "nbformat": 4,
 "nbformat_minor": 2
}
